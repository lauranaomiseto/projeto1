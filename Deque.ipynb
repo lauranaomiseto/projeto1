{
  "nbformat": 4,
  "nbformat_minor": 0,
  "metadata": {
    "colab": {
      "name": "Deque.ipynb",
      "provenance": [],
      "collapsed_sections": [],
      "authorship_tag": "ABX9TyPPBevSNfmxk/YxgLfy5T3g",
      "include_colab_link": true
    },
    "kernelspec": {
      "name": "python3",
      "display_name": "Python 3"
    }
  },
  "cells": [
    {
      "cell_type": "markdown",
      "metadata": {
        "id": "view-in-github",
        "colab_type": "text"
      },
      "source": [
        "<a href=\"https://colab.research.google.com/github/laurinhagameplays/projeto1/blob/master/Deque.ipynb\" target=\"_parent\"><img src=\"https://colab.research.google.com/assets/colab-badge.svg\" alt=\"Open In Colab\"/></a>"
      ]
    },
    {
      "cell_type": "code",
      "metadata": {
        "colab": {
          "base_uri": "https://localhost:8080/"
        },
        "id": "6psdmkdeAgxo",
        "outputId": "3660ff56-496d-4fca-ca68-1240840e2860"
      },
      "source": [
        "# A deque é uma estrutura de dados composta por uma coleção de elementos ordenados em uma fila de duas extremidades\n",
        "# Novos itens podem ser adicionados ou removidos no início (front) ou no fim (rear)\n",
        "# Fornece todas as capacidades de pilhas e filas\n",
        "\n",
        "from typing import Deque, Any\n",
        "from collections import deque\n",
        "\n",
        "# variável queue do tipo Deque\n",
        "queue: Deque[Any] = deque()\n",
        "\n",
        "# inserção dos elementos\n",
        "queue.append('A')\n",
        "queue.append('B')\n",
        "queue.append('C')\n",
        "\n",
        "print('Estado inicial: ', queue, '\\n')\n",
        "\n",
        "# retirada dos elementos a esquerda/elemento na posição inicial com o .popleft() (FIFO) \n",
        "print('Elemento removido:', queue.popleft())\n",
        "print(queue, '\\n')\n",
        "\n",
        "print('Elemento removido:', queue.popleft())\n",
        "print(queue, '\\n')\n",
        "\n",
        "print('Elemento removido:', queue.popleft())\n",
        "print(queue, '\\n')\n",
        "\n",
        "# o .pop() em um deque vasio, causa um erro (pop from an empty deque)"
      ],
      "execution_count": 10,
      "outputs": [
        {
          "output_type": "stream",
          "text": [
            "Estado inicial:  deque(['A', 'B', 'C']) \n",
            "\n",
            "Elemento removido: A\n",
            "deque(['B', 'C']) \n",
            "\n",
            "Elemento removido: B\n",
            "deque(['C']) \n",
            "\n",
            "Elemento removido: C\n",
            "deque([]) \n",
            "\n"
          ],
          "name": "stdout"
        }
      ]
    }
  ]
}